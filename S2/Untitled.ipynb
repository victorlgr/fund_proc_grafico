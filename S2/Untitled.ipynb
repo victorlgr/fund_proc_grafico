{
 "cells": [
  {
   "cell_type": "code",
   "execution_count": 18,
   "id": "32fd3d05",
   "metadata": {},
   "outputs": [],
   "source": [
    "import matplotlib.pyplot as plt\n",
    "import cmath"
   ]
  },
  {
   "cell_type": "code",
   "execution_count": 51,
   "id": "424b1645",
   "metadata": {},
   "outputs": [],
   "source": [
    "def funcao_x_t(t, m, k, b, F, x0, v0):\n",
    "    potencia = b**2\n",
    "    raiz = cmath.sqrt(potencia - 4 * k * m)\n",
    "    C = ((k * raiz - b * k) * x0 - 2 * k * m * v0 - F * raiz + b * F) / (2 * k * raiz)\n",
    "    C1 = ((k * raiz + b * k) * x0 + 2 * k * m * v0 - F * raiz - b * F) / (2 * k * raiz)\n",
    "    x = C1 * (cmath.exp(((raiz - b) / 2 * m) * t)) + C * (cmath.exp(((-raiz - b) / 2 * m) * t)) + F / k\n",
    "    return x"
   ]
  },
  {
   "cell_type": "code",
   "execution_count": 54,
   "id": "1fbaf326",
   "metadata": {},
   "outputs": [],
   "source": [
    "x = []\n",
    "y = []\n",
    "for i in range(200):\n",
    "    x.append(i)\n",
    "    y.append(funcao_x_t(i, 1, 1, 4, 5, 0, 0))"
   ]
  },
  {
   "cell_type": "code",
   "execution_count": 55,
   "id": "b3ceccaa",
   "metadata": {},
   "outputs": [
    {
     "data": {
      "text/plain": [
       "[<matplotlib.lines.Line2D at 0x7f5219f65210>]"
      ]
     },
     "execution_count": 55,
     "metadata": {},
     "output_type": "execute_result"
    },
    {
     "data": {
      "image/png": "[encoded data removed]",
      "text/plain": [
       "<Figure size 432x288 with 1 Axes>"
      ]
     },
     "metadata": {
      "needs_background": "light"
     },
     "output_type": "display_data"
    }
   ],
   "source": [
    "plt.plot(x, y)"
   ]
  },
  {
   "cell_type": "code",
   "execution_count": null,
   "id": "a7bad6f2",
   "metadata": {},
   "outputs": [],
   "source": []
  },
  {
   "cell_type": "code",
   "execution_count": null,
   "id": "fce6892a",
   "metadata": {},
   "outputs": [],
   "source": []
  },
  {
   "cell_type": "code",
   "execution_count": null,
   "id": "9f9f5d45",
   "metadata": {},
   "outputs": [],
   "source": []
  }
 ],
 "metadata": {
  "kernelspec": {
   "display_name": "Python 3 (ipykernel)",
   "language": "python",
   "name": "python3"
  },
  "language_info": {
   "codemirror_mode": {
    "name": "ipython",
    "version": 3
   },
   "file_extension": ".py",
   "mimetype": "text/x-python",
   "name": "python",
   "nbconvert_exporter": "python",
   "pygments_lexer": "ipython3",
   "version": "3.10.6"
  }
 },
 "nbformat": 4,
 "nbformat_minor": 5
}
